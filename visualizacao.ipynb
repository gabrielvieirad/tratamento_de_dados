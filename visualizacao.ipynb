{
 "cells": [
  {
   "cell_type": "markdown",
   "id": "b6fdc729",
   "metadata": {},
   "source": [
    "# Visualização de dados utilizando seaborn"
   ]
  },
  {
   "cell_type": "code",
   "execution_count": 1,
   "id": "4b5c6ab9",
   "metadata": {},
   "outputs": [],
   "source": [
    "import pandas as pd\n",
    "import numpy as np\n",
    "import matplotlib.pyplot as plt\n",
    "import seaborn as srn"
   ]
  },
  {
   "cell_type": "code",
   "execution_count": 6,
   "id": "c1d3a130",
   "metadata": {},
   "outputs": [
    {
     "data": {
      "text/html": [
       "<div>\n",
       "<style scoped>\n",
       "    .dataframe tbody tr th:only-of-type {\n",
       "        vertical-align: middle;\n",
       "    }\n",
       "\n",
       "    .dataframe tbody tr th {\n",
       "        vertical-align: top;\n",
       "    }\n",
       "\n",
       "    .dataframe thead th {\n",
       "        text-align: right;\n",
       "    }\n",
       "</style>\n",
       "<table border=\"1\" class=\"dataframe\">\n",
       "  <thead>\n",
       "    <tr style=\"text-align: right;\">\n",
       "      <th></th>\n",
       "      <th>CODIGO</th>\n",
       "      <th>MUNICIPIO</th>\n",
       "      <th>PIB</th>\n",
       "      <th>VALOREMPENHO</th>\n",
       "    </tr>\n",
       "  </thead>\n",
       "  <tbody>\n",
       "    <tr>\n",
       "      <th>0</th>\n",
       "      <td>106</td>\n",
       "      <td>SANTANA DO LIVRAMENTO</td>\n",
       "      <td>12240.76</td>\n",
       "      <td>1088666.10</td>\n",
       "    </tr>\n",
       "    <tr>\n",
       "      <th>1</th>\n",
       "      <td>113</td>\n",
       "      <td>SANTO ANGELO</td>\n",
       "      <td>16575.82</td>\n",
       "      <td>800669.92</td>\n",
       "    </tr>\n",
       "    <tr>\n",
       "      <th>2</th>\n",
       "      <td>118</td>\n",
       "      <td>SAO FRANCISCO DE ASSIS</td>\n",
       "      <td>12037.61</td>\n",
       "      <td>466122.80</td>\n",
       "    </tr>\n",
       "    <tr>\n",
       "      <th>3</th>\n",
       "      <td>13</td>\n",
       "      <td>CACAPAVA DO SUL</td>\n",
       "      <td>13674.54</td>\n",
       "      <td>485535.86</td>\n",
       "    </tr>\n",
       "    <tr>\n",
       "      <th>4</th>\n",
       "      <td>120</td>\n",
       "      <td>SAO GABRIEL</td>\n",
       "      <td>19912.38</td>\n",
       "      <td>533719.86</td>\n",
       "    </tr>\n",
       "  </tbody>\n",
       "</table>\n",
       "</div>"
      ],
      "text/plain": [
       "   CODIGO               MUNICIPIO       PIB  VALOREMPENHO\n",
       "0     106   SANTANA DO LIVRAMENTO  12240.76    1088666.10\n",
       "1     113            SANTO ANGELO  16575.82     800669.92\n",
       "2     118  SAO FRANCISCO DE ASSIS  12037.61     466122.80\n",
       "3      13         CACAPAVA DO SUL  13674.54     485535.86\n",
       "4     120             SAO GABRIEL  19912.38     533719.86"
      ]
     },
     "execution_count": 6,
     "metadata": {},
     "output_type": "execute_result"
    }
   ],
   "source": [
    "df = pd.read_csv(\"dados.csv\", sep=\";\")\n",
    "df.head()"
   ]
  },
  {
   "cell_type": "code",
   "execution_count": 7,
   "id": "1eab839d",
   "metadata": {},
   "outputs": [
    {
     "data": {
      "text/plain": [
       "(187, 4)"
      ]
     },
     "execution_count": 7,
     "metadata": {},
     "output_type": "execute_result"
    }
   ],
   "source": [
    "df.shape"
   ]
  },
  {
   "cell_type": "code",
   "execution_count": 8,
   "id": "b60be73a",
   "metadata": {},
   "outputs": [
    {
     "data": {
      "text/html": [
       "<div>\n",
       "<style scoped>\n",
       "    .dataframe tbody tr th:only-of-type {\n",
       "        vertical-align: middle;\n",
       "    }\n",
       "\n",
       "    .dataframe tbody tr th {\n",
       "        vertical-align: top;\n",
       "    }\n",
       "\n",
       "    .dataframe thead th {\n",
       "        text-align: right;\n",
       "    }\n",
       "</style>\n",
       "<table border=\"1\" class=\"dataframe\">\n",
       "  <thead>\n",
       "    <tr style=\"text-align: right;\">\n",
       "      <th></th>\n",
       "      <th>CODIGO</th>\n",
       "      <th>MUNICIPIO</th>\n",
       "      <th>PIB</th>\n",
       "      <th>VALOREMPENHO</th>\n",
       "    </tr>\n",
       "  </thead>\n",
       "  <tbody>\n",
       "    <tr>\n",
       "      <th>182</th>\n",
       "      <td>372</td>\n",
       "      <td>SANTA VITORIA DO PALMAR</td>\n",
       "      <td>27170.89</td>\n",
       "      <td>760.00</td>\n",
       "    </tr>\n",
       "    <tr>\n",
       "      <th>183</th>\n",
       "      <td>107</td>\n",
       "      <td>SANTA BARBARA DO SUL</td>\n",
       "      <td>29654.02</td>\n",
       "      <td>365.00</td>\n",
       "    </tr>\n",
       "    <tr>\n",
       "      <th>184</th>\n",
       "      <td>54</td>\n",
       "      <td>GETULIO VARGAS</td>\n",
       "      <td>16876.33</td>\n",
       "      <td>233.01</td>\n",
       "    </tr>\n",
       "    <tr>\n",
       "      <th>185</th>\n",
       "      <td>382</td>\n",
       "      <td>NOVA SANTA RITA</td>\n",
       "      <td>25938.38</td>\n",
       "      <td>310.58</td>\n",
       "    </tr>\n",
       "    <tr>\n",
       "      <th>186</th>\n",
       "      <td>60</td>\n",
       "      <td>GUARANI DAS MISSOES</td>\n",
       "      <td>24363.31</td>\n",
       "      <td>172.13</td>\n",
       "    </tr>\n",
       "  </tbody>\n",
       "</table>\n",
       "</div>"
      ],
      "text/plain": [
       "     CODIGO                MUNICIPIO       PIB  VALOREMPENHO\n",
       "182     372  SANTA VITORIA DO PALMAR  27170.89        760.00\n",
       "183     107     SANTA BARBARA DO SUL  29654.02        365.00\n",
       "184      54           GETULIO VARGAS  16876.33        233.01\n",
       "185     382          NOVA SANTA RITA  25938.38        310.58\n",
       "186      60      GUARANI DAS MISSOES  24363.31        172.13"
      ]
     },
     "execution_count": 8,
     "metadata": {},
     "output_type": "execute_result"
    }
   ],
   "source": [
    "df.tail()"
   ]
  },
  {
   "cell_type": "code",
   "execution_count": 10,
   "id": "a2e41663",
   "metadata": {},
   "outputs": [
    {
     "data": {
      "text/plain": [
       "CODIGO          0\n",
       "MUNICIPIO       0\n",
       "PIB             0\n",
       "VALOREMPENHO    0\n",
       "dtype: int64"
      ]
     },
     "execution_count": 10,
     "metadata": {},
     "output_type": "execute_result"
    }
   ],
   "source": [
    "df.isnull().sum()"
   ]
  },
  {
   "cell_type": "code",
   "execution_count": 17,
   "id": "5e56cace",
   "metadata": {},
   "outputs": [
    {
     "data": {
      "text/plain": [
       "count       187.000000\n",
       "mean      19808.741337\n",
       "std       16984.223244\n",
       "min        8236.630000\n",
       "25%       13621.455000\n",
       "50%       17206.190000\n",
       "75%       21429.165000\n",
       "max      223848.220000\n",
       "Name: PIB, dtype: float64"
      ]
     },
     "execution_count": 17,
     "metadata": {},
     "output_type": "execute_result"
    }
   ],
   "source": [
    "df[\"PIB\"].describe()"
   ]
  },
  {
   "cell_type": "code",
   "execution_count": 16,
   "id": "4c4c36da",
   "metadata": {},
   "outputs": [
    {
     "name": "stderr",
     "output_type": "stream",
     "text": [
      "C:\\Users\\Mago\\anaconda3\\lib\\site-packages\\seaborn\\distributions.py:2557: FutureWarning: `distplot` is a deprecated function and will be removed in a future version. Please adapt your code to use either `displot` (a figure-level function with similar flexibility) or `histplot` (an axes-level function for histograms).\n",
      "  warnings.warn(msg, FutureWarning)\n"
     ]
    },
    {
     "data": {
      "text/plain": [
       "Text(0.5, 1.0, 'PIB')"
      ]
     },
     "execution_count": 16,
     "metadata": {},
     "output_type": "execute_result"
    },
    {
     "data": {
      "image/png": "[encoded data removed]",
      "text/plain": [
       "<Figure size 432x288 with 1 Axes>"
      ]
     },
     "metadata": {
      "needs_background": "light"
     },
     "output_type": "display_data"
    }
   ],
   "source": [
    "srn.distplot(df.PIB, bins=15, axlabel=\"PIB\").set_title(\"PIB\")"
   ]
  },
  {
   "cell_type": "code",
   "execution_count": 18,
   "id": "f707b94f",
   "metadata": {},
   "outputs": [
    {
     "name": "stderr",
     "output_type": "stream",
     "text": [
      "C:\\Users\\Mago\\anaconda3\\lib\\site-packages\\seaborn\\distributions.py:2557: FutureWarning: `distplot` is a deprecated function and will be removed in a future version. Please adapt your code to use either `displot` (a figure-level function with similar flexibility) or `histplot` (an axes-level function for histograms).\n",
      "  warnings.warn(msg, FutureWarning)\n"
     ]
    },
    {
     "data": {
      "text/plain": [
       "Text(0.5, 1.0, 'Valor de empenho')"
      ]
     },
     "execution_count": 18,
     "metadata": {},
     "output_type": "execute_result"
    },
    {
     "data": {
      "image/png": "[encoded data removed]",
      "text/plain": [
       "<Figure size 432x288 with 1 Axes>"
      ]
     },
     "metadata": {
      "needs_background": "light"
     },
     "output_type": "display_data"
    }
   ],
   "source": [
    "srn.distplot(df.VALOREMPENHO, bins=15, axlabel=\"Valor de Empenho\").set_title(\"Valor de empenho\")"
   ]
  },
  {
   "cell_type": "code",
   "execution_count": 28,
   "id": "360afa63",
   "metadata": {},
   "outputs": [
    {
     "data": {
      "text/plain": [
       "<AxesSubplot:xlabel='MUNICIPIO'>"
      ]
     },
     "execution_count": 28,
     "metadata": {},
     "output_type": "execute_result"
    },
    {
     "data": {
      "image/png": "[encoded data removed]",
      "text/plain": [
       "<Figure size 432x288 with 1 Axes>"
      ]
     },
     "metadata": {
      "needs_background": "light"
     },
     "output_type": "display_data"
    }
   ],
   "source": [
    "agp = df.sort_values(\"PIB\").head(10)\n",
    "agp = agp.iloc[:,1:3]\n",
    "agp\n",
    "agp.plot.bar(x=\"MUNICIPIO\", y=\"PIB\", color=\"green\")"
   ]
  },
  {
   "cell_type": "code",
   "execution_count": 39,
   "id": "8a66ca0d",
   "metadata": {},
   "outputs": [
    {
     "data": {
      "text/plain": [
       "<AxesSubplot:xlabel='MUNICIPIO'>"
      ]
     },
     "execution_count": 39,
     "metadata": {},
     "output_type": "execute_result"
    },
    {
     "data": {
      "image/png": "[encoded data removed]",
      "text/plain": [
       "<Figure size 432x288 with 1 Axes>"
      ]
     },
     "metadata": {
      "needs_background": "light"
     },
     "output_type": "display_data"
    }
   ],
   "source": [
    "agp = df.sort_values(\"VALOREMPENHO\").head(10)\n",
    "agp = agp.iloc[:,[1,3]]\n",
    "agp\n",
    "agp.plot.bar(x=\"MUNICIPIO\", y=\"VALOREMPENHO\", color=\"green\")"
   ]
  }
 ],
 "metadata": {
  "kernelspec": {
   "display_name": "Python 3",
   "language": "python",
   "name": "python3"
  },
  "language_info": {
   "codemirror_mode": {
    "name": "ipython",
    "version": 3
   },
   "file_extension": ".py",
   "mimetype": "text/x-python",
   "name": "python",
   "nbconvert_exporter": "python",
   "pygments_lexer": "ipython3",
   "version": "3.8.8"
  }
 },
 "nbformat": 4,
 "nbformat_minor": 5
}
